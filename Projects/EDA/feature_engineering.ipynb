{
 "cells": [
  {
   "cell_type": "code",
   "execution_count": 1,
   "id": "c2dc259b",
   "metadata": {},
   "outputs": [],
   "source": [
    "import pandas as pd"
   ]
  },
  {
   "cell_type": "code",
   "execution_count": 2,
   "id": "5c347280",
   "metadata": {},
   "outputs": [
    {
     "name": "stdout",
     "output_type": "stream",
     "text": [
      "|    | date       | gender   |   age | product_category   |   quantity |   price_per_unit |   total_amount |\n",
      "|---:|:-----------|:---------|------:|:-------------------|-----------:|-----------------:|---------------:|\n",
      "|  0 | 2023-11-24 | Male     |    34 | Beauty             |          3 |               50 |            150 |\n",
      "|  1 | 2023-02-27 | Female   |    26 | Clothing           |          2 |              500 |           1000 |\n",
      "|  2 | 2023-01-13 | Male     |    50 | Electronics        |          1 |               30 |             30 |\n",
      "|  3 | 2023-05-21 | Male     |    37 | Clothing           |          1 |              500 |            500 |\n",
      "|  4 | 2023-05-06 | Male     |    30 | Beauty             |          2 |               50 |            100 |\n"
     ]
    }
   ],
   "source": [
    "# Read the Clean Data CSV file\n",
    "cleanData = pd.read_csv('./data/clean_data.csv')\n",
    "\n",
    "print(cleanData.head().to_markdown())\n",
    "\n"
   ]
  },
  {
   "cell_type": "code",
   "execution_count": 3,
   "id": "9e94c3b9",
   "metadata": {},
   "outputs": [
    {
     "name": "stdout",
     "output_type": "stream",
     "text": [
      "|    | gender   |   age | product_category   |   quantity |   price_per_unit |   total_amount |   year | month    |   day | dayOfWeek   |\n",
      "|---:|:---------|------:|:-------------------|-----------:|-----------------:|---------------:|-------:|:---------|------:|:------------|\n",
      "|  0 | Male     |    34 | Beauty             |          3 |               50 |            150 |   2023 | November |    24 | Friday      |\n",
      "|  1 | Female   |    26 | Clothing           |          2 |              500 |           1000 |   2023 | February |    27 | Monday      |\n",
      "|  2 | Male     |    50 | Electronics        |          1 |               30 |             30 |   2023 | January  |    13 | Friday      |\n",
      "|  3 | Male     |    37 | Clothing           |          1 |              500 |            500 |   2023 | May      |    21 | Sunday      |\n",
      "|  4 | Male     |    30 | Beauty             |          2 |               50 |            100 |   2023 | May      |     6 | Saturday    |\n"
     ]
    }
   ],
   "source": [
    "# Convert timestamp to date fields\n",
    "engDates = cleanData.copy()\n",
    "engDates['date'] = pd.to_datetime(engDates['date'])\n",
    "engDates['year'] = engDates['date'].dt.year\n",
    "engDates['month'] = engDates['date'].dt.month\n",
    "engDates['day'] = engDates['date'].dt.day\n",
    "engDates['dayOfWeek'] = engDates['date'].dt.dayofweek\n",
    "\n",
    "dayOfWeekMap = {\n",
    "    0: 'Monday',\n",
    "    1: 'Tuesday',\n",
    "    2: 'Wednesday',\n",
    "    3: 'Thursday',\n",
    "    4: 'Friday',\n",
    "    5: 'Saturday',\n",
    "    6: 'Sunday'\n",
    "}\n",
    "\n",
    "monthMap = {\n",
    "    1: 'January',\n",
    "    2: 'February',\n",
    "    3: 'March',\n",
    "    4: 'April',\n",
    "    5: 'May',\n",
    "    6: 'June',\n",
    "    7: 'July',\n",
    "    8: 'August',\n",
    "    9: 'September',\n",
    "    10: 'October',\n",
    "    11: 'November',\n",
    "    12: 'December'\n",
    "}\n",
    "\n",
    "engDates['month'] = engDates['month'].map(monthMap)\n",
    "engDates['dayOfWeek'] = engDates['dayOfWeek'].map(dayOfWeekMap)\n",
    "\n",
    "# Clear out Datetime field\n",
    "engDates = engDates.drop(columns=['date'])\n",
    "\n",
    "print(engDates.head().to_markdown())"
   ]
  },
  {
   "cell_type": "code",
   "execution_count": null,
   "id": "0e14abe3",
   "metadata": {},
   "outputs": [
    {
     "name": "stdout",
     "output_type": "stream",
     "text": [
      "|    | gender   |   age | product_category   |   quantity |   price_per_unit |   total_amount |   year | month     |   day | dayOfWeek   | age_group   |\n",
      "|---:|:---------|------:|:-------------------|-----------:|-----------------:|---------------:|-------:|:----------|------:|:------------|:------------|\n",
      "|  8 | Male     |    63 | Electronics        |          2 |              300 |            600 |   2023 | December  |    13 | Wednesday   | 60+         |\n",
      "| 13 | Male     |    64 | Clothing           |          4 |               30 |            120 |   2023 | January   |    17 | Tuesday     | 60+         |\n",
      "| 18 | Female   |    62 | Clothing           |          2 |               25 |             50 |   2023 | September |    16 | Saturday    | 60+         |\n",
      "| 24 | Female   |    64 | Beauty             |          1 |               50 |             50 |   2023 | December  |    26 | Tuesday     | 60+         |\n",
      "| 56 | Female   |    63 | Beauty             |          1 |               30 |             30 |   2023 | November  |    18 | Saturday    | 60+         |\n"
     ]
    }
   ],
   "source": [
    "# Create Age Bins:\n",
    "ageGrouped = engDates.copy()\n",
    "ageBins = [20,30,40,50,60,70]\n",
    "ageLabels = ['20-29','30-39','40-49','50-59','60+']\n",
    "ageGrouped['age_group'] = pd.cut(ageGrouped['age'], bins=ageBins, labels=ageLabels, right=True, include_lowest=True)\n"
   ]
  },
  {
   "cell_type": "code",
   "execution_count": 5,
   "id": "9d2af037",
   "metadata": {},
   "outputs": [],
   "source": [
    "# One Hot Encoding for gender and product_category\n",
    "# oneHotEncoded = ageGrouped.copy()\n",
    "# oneHotColumns = ['gender', 'product_category', 'month', 'dayOfWeek']\n",
    "\n",
    "# oneHotEncoded = pd.get_dummies(oneHotEncoded, columns=oneHotColumns)\n",
    "# print(oneHotEncoded.head().to_markdown())"
   ]
  },
  {
   "cell_type": "code",
   "execution_count": 6,
   "id": "e58ca7ae",
   "metadata": {},
   "outputs": [],
   "source": [
    "engineeredData = ageGrouped.copy()\n",
    "# Save the DataFrame to a CSV file\n",
    "engineeredData.to_csv('data/eng_data.csv', index=False)"
   ]
  }
 ],
 "metadata": {
  "kernelspec": {
   "display_name": "base",
   "language": "python",
   "name": "python3"
  },
  "language_info": {
   "codemirror_mode": {
    "name": "ipython",
    "version": 3
   },
   "file_extension": ".py",
   "mimetype": "text/x-python",
   "name": "python",
   "nbconvert_exporter": "python",
   "pygments_lexer": "ipython3",
   "version": "3.13.5"
  }
 },
 "nbformat": 4,
 "nbformat_minor": 5
}
