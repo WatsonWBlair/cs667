{
 "cells": [
  {
   "cell_type": "code",
   "execution_count": 9,
   "id": "c2dc259b",
   "metadata": {},
   "outputs": [],
   "source": [
    "# Imports\n",
    "import pandas as pd"
   ]
  },
  {
   "cell_type": "code",
   "execution_count": 10,
   "id": "5c347280",
   "metadata": {},
   "outputs": [
    {
     "name": "stdout",
     "output_type": "stream",
     "text": [
      "|    |   Transaction ID | Date                | Customer ID   | Gender   |   Age | Product Category   |   Quantity |   Price per Unit |   Total Amount |\n",
      "|---:|-----------------:|:--------------------|:--------------|:---------|------:|:-------------------|-----------:|-----------------:|---------------:|\n",
      "|  0 |                1 | 2023-11-24 00:00:00 | CUST001       | Male     |    34 | Beauty             |          3 |               50 |            150 |\n",
      "|  1 |                2 | 2023-02-27 00:00:00 | CUST002       | Female   |    26 | Clothing           |          2 |              500 |           1000 |\n",
      "|  2 |                3 | 2023-01-13 00:00:00 | CUST003       | Male     |    50 | Electronics        |          1 |               30 |             30 |\n",
      "|  3 |                4 | 2023-05-21 00:00:00 | CUST004       | Male     |    37 | Clothing           |          1 |              500 |            500 |\n",
      "|  4 |                5 | 2023-05-06 00:00:00 | CUST005       | Male     |    30 | Beauty             |          2 |               50 |            100 |\n"
     ]
    }
   ],
   "source": [
    "# Read the Excel file\n",
    "rawData = pd.read_excel('data/retail_sales.xlsx')\n",
    "\n",
    "print(rawData.head().to_markdown())\n"
   ]
  },
  {
   "cell_type": "code",
   "execution_count": 11,
   "id": "cef74cac",
   "metadata": {},
   "outputs": [
    {
     "name": "stdout",
     "output_type": "stream",
     "text": [
      "<class 'pandas.core.frame.DataFrame'>\n",
      "RangeIndex: 1000 entries, 0 to 999\n",
      "Data columns (total 9 columns):\n",
      " #   Column            Non-Null Count  Dtype         \n",
      "---  ------            --------------  -----         \n",
      " 0   Transaction ID    1000 non-null   int64         \n",
      " 1   Date              1000 non-null   datetime64[ns]\n",
      " 2   Customer ID       1000 non-null   object        \n",
      " 3   Gender            1000 non-null   object        \n",
      " 4   Age               1000 non-null   int64         \n",
      " 5   Product Category  1000 non-null   object        \n",
      " 6   Quantity          1000 non-null   int64         \n",
      " 7   Price per Unit    1000 non-null   int64         \n",
      " 8   Total Amount      1000 non-null   int64         \n",
      "dtypes: datetime64[ns](1), int64(5), object(3)\n",
      "memory usage: 70.4+ KB\n"
     ]
    }
   ],
   "source": [
    "rawData.info()"
   ]
  },
  {
   "cell_type": "code",
   "execution_count": 12,
   "id": "683bedf3",
   "metadata": {},
   "outputs": [
    {
     "data": {
      "text/html": [
       "<div>\n",
       "<style scoped>\n",
       "    .dataframe tbody tr th:only-of-type {\n",
       "        vertical-align: middle;\n",
       "    }\n",
       "\n",
       "    .dataframe tbody tr th {\n",
       "        vertical-align: top;\n",
       "    }\n",
       "\n",
       "    .dataframe thead th {\n",
       "        text-align: right;\n",
       "    }\n",
       "</style>\n",
       "<table border=\"1\" class=\"dataframe\">\n",
       "  <thead>\n",
       "    <tr style=\"text-align: right;\">\n",
       "      <th></th>\n",
       "      <th>count</th>\n",
       "      <th>mean</th>\n",
       "      <th>min</th>\n",
       "      <th>25%</th>\n",
       "      <th>50%</th>\n",
       "      <th>75%</th>\n",
       "      <th>max</th>\n",
       "      <th>std</th>\n",
       "    </tr>\n",
       "  </thead>\n",
       "  <tbody>\n",
       "    <tr>\n",
       "      <th>Transaction ID</th>\n",
       "      <td>1000.0</td>\n",
       "      <td>500.5</td>\n",
       "      <td>1.0</td>\n",
       "      <td>250.75</td>\n",
       "      <td>500.5</td>\n",
       "      <td>750.25</td>\n",
       "      <td>1000.0</td>\n",
       "      <td>288.819436</td>\n",
       "    </tr>\n",
       "    <tr>\n",
       "      <th>Date</th>\n",
       "      <td>1000</td>\n",
       "      <td>2023-07-03 00:25:55.200000256</td>\n",
       "      <td>2023-01-01 00:00:00</td>\n",
       "      <td>2023-04-08 00:00:00</td>\n",
       "      <td>2023-06-29 12:00:00</td>\n",
       "      <td>2023-10-04 00:00:00</td>\n",
       "      <td>2024-01-01 00:00:00</td>\n",
       "      <td>NaN</td>\n",
       "    </tr>\n",
       "    <tr>\n",
       "      <th>Age</th>\n",
       "      <td>1000.0</td>\n",
       "      <td>41.392</td>\n",
       "      <td>18.0</td>\n",
       "      <td>29.0</td>\n",
       "      <td>42.0</td>\n",
       "      <td>53.0</td>\n",
       "      <td>64.0</td>\n",
       "      <td>13.68143</td>\n",
       "    </tr>\n",
       "    <tr>\n",
       "      <th>Quantity</th>\n",
       "      <td>1000.0</td>\n",
       "      <td>2.514</td>\n",
       "      <td>1.0</td>\n",
       "      <td>1.0</td>\n",
       "      <td>3.0</td>\n",
       "      <td>4.0</td>\n",
       "      <td>4.0</td>\n",
       "      <td>1.132734</td>\n",
       "    </tr>\n",
       "    <tr>\n",
       "      <th>Price per Unit</th>\n",
       "      <td>1000.0</td>\n",
       "      <td>179.89</td>\n",
       "      <td>25.0</td>\n",
       "      <td>30.0</td>\n",
       "      <td>50.0</td>\n",
       "      <td>300.0</td>\n",
       "      <td>500.0</td>\n",
       "      <td>189.681356</td>\n",
       "    </tr>\n",
       "    <tr>\n",
       "      <th>Total Amount</th>\n",
       "      <td>1000.0</td>\n",
       "      <td>456.0</td>\n",
       "      <td>25.0</td>\n",
       "      <td>60.0</td>\n",
       "      <td>135.0</td>\n",
       "      <td>900.0</td>\n",
       "      <td>2000.0</td>\n",
       "      <td>559.997632</td>\n",
       "    </tr>\n",
       "  </tbody>\n",
       "</table>\n",
       "</div>"
      ],
      "text/plain": [
       "                 count                           mean                  min  \\\n",
       "Transaction ID  1000.0                          500.5                  1.0   \n",
       "Date              1000  2023-07-03 00:25:55.200000256  2023-01-01 00:00:00   \n",
       "Age             1000.0                         41.392                 18.0   \n",
       "Quantity        1000.0                          2.514                  1.0   \n",
       "Price per Unit  1000.0                         179.89                 25.0   \n",
       "Total Amount    1000.0                          456.0                 25.0   \n",
       "\n",
       "                                25%                  50%                  75%  \\\n",
       "Transaction ID               250.75                500.5               750.25   \n",
       "Date            2023-04-08 00:00:00  2023-06-29 12:00:00  2023-10-04 00:00:00   \n",
       "Age                            29.0                 42.0                 53.0   \n",
       "Quantity                        1.0                  3.0                  4.0   \n",
       "Price per Unit                 30.0                 50.0                300.0   \n",
       "Total Amount                   60.0                135.0                900.0   \n",
       "\n",
       "                                max         std  \n",
       "Transaction ID               1000.0  288.819436  \n",
       "Date            2024-01-01 00:00:00         NaN  \n",
       "Age                            64.0    13.68143  \n",
       "Quantity                        4.0    1.132734  \n",
       "Price per Unit                500.0  189.681356  \n",
       "Total Amount                 2000.0  559.997632  "
      ]
     },
     "execution_count": 12,
     "metadata": {},
     "output_type": "execute_result"
    }
   ],
   "source": [
    "rawData.describe().T"
   ]
  },
  {
   "cell_type": "code",
   "execution_count": 13,
   "id": "9d2af037",
   "metadata": {},
   "outputs": [
    {
     "name": "stdout",
     "output_type": "stream",
     "text": [
      "|    |   transaction_id | date                | customer_id   | gender   |   age | product_category   |   quantity |   price_per_unit |   total_amount |\n",
      "|---:|-----------------:|:--------------------|:--------------|:---------|------:|:-------------------|-----------:|-----------------:|---------------:|\n",
      "|  0 |                1 | 2023-11-24 00:00:00 | CUST001       | Male     |    34 | Beauty             |          3 |               50 |            150 |\n",
      "|  1 |                2 | 2023-02-27 00:00:00 | CUST002       | Female   |    26 | Clothing           |          2 |              500 |           1000 |\n",
      "|  2 |                3 | 2023-01-13 00:00:00 | CUST003       | Male     |    50 | Electronics        |          1 |               30 |             30 |\n",
      "|  3 |                4 | 2023-05-21 00:00:00 | CUST004       | Male     |    37 | Clothing           |          1 |              500 |            500 |\n",
      "|  4 |                5 | 2023-05-06 00:00:00 | CUST005       | Male     |    30 | Beauty             |          2 |               50 |            100 |\n"
     ]
    }
   ],
   "source": [
    "# change column names to be snake case\n",
    "cleanColNames = rawData.copy()\n",
    "cleanColNames.columns = [col.lower().replace(' ', '_') for col in cleanColNames.columns]\n",
    "\n",
    "print(cleanColNames.head().to_markdown())"
   ]
  },
  {
   "cell_type": "code",
   "execution_count": 14,
   "id": "42b34a2f",
   "metadata": {},
   "outputs": [
    {
     "name": "stdout",
     "output_type": "stream",
     "text": [
      "0\n"
     ]
    }
   ],
   "source": [
    "# Verify that total_amount is correct given the quantity and price_per_unit\n",
    "mathErrors = cleanColNames[cleanColNames['total_amount'] != (cleanColNames['quantity']*cleanColNames['price_per_unit'])]\n",
    "print(len(mathErrors))"
   ]
  },
  {
   "cell_type": "code",
   "execution_count": 17,
   "id": "da2372ff",
   "metadata": {},
   "outputs": [
    {
     "name": "stdout",
     "output_type": "stream",
     "text": [
      "Number of Records: 1000\n",
      "Number of Unique Customer_Ids: 1000\n",
      "Number of Unique Transaction_Ids: 1000\n"
     ]
    }
   ],
   "source": [
    "# Dropping Non-Descriptive Columns\n",
    "print('Number of Records:', len(cleanColNames))\n",
    "\n",
    "print('Number of Unique Customer_Ids:', len(cleanColNames['customer_id'].unique()))\n",
    "print('Number of Unique Transaction_Ids:', len(cleanColNames['transaction_id'].unique()))\n",
    "\n",
    "cleanData = cleanColNames.copy()\n",
    "cleanData = cleanData.drop(columns=['transaction_id', 'customer_id'])"
   ]
  },
  {
   "cell_type": "code",
   "execution_count": 18,
   "id": "e58ca7ae",
   "metadata": {},
   "outputs": [
    {
     "name": "stdout",
     "output_type": "stream",
     "text": [
      "|    | date                | gender   |   age | product_category   |   quantity |   price_per_unit |   total_amount |\n",
      "|---:|:--------------------|:---------|------:|:-------------------|-----------:|-----------------:|---------------:|\n",
      "|  0 | 2023-11-24 00:00:00 | Male     |    34 | Beauty             |          3 |               50 |            150 |\n",
      "|  1 | 2023-02-27 00:00:00 | Female   |    26 | Clothing           |          2 |              500 |           1000 |\n",
      "|  2 | 2023-01-13 00:00:00 | Male     |    50 | Electronics        |          1 |               30 |             30 |\n",
      "|  3 | 2023-05-21 00:00:00 | Male     |    37 | Clothing           |          1 |              500 |            500 |\n",
      "|  4 | 2023-05-06 00:00:00 | Male     |    30 | Beauty             |          2 |               50 |            100 |\n"
     ]
    }
   ],
   "source": [
    "# Save the DataFrame to a CSV file\n",
    "print(cleanData.head().to_markdown())\n",
    "cleanData.to_csv('data/clean_data.csv', index_label=False)"
   ]
  }
 ],
 "metadata": {
  "kernelspec": {
   "display_name": "base",
   "language": "python",
   "name": "python3"
  },
  "language_info": {
   "codemirror_mode": {
    "name": "ipython",
    "version": 3
   },
   "file_extension": ".py",
   "mimetype": "text/x-python",
   "name": "python",
   "nbconvert_exporter": "python",
   "pygments_lexer": "ipython3",
   "version": "3.13.5"
  }
 },
 "nbformat": 4,
 "nbformat_minor": 5
}
