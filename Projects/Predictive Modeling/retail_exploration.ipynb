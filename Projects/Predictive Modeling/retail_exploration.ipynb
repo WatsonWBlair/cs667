{
 "cells": [
  {
   "cell_type": "code",
   "execution_count": 1,
   "id": "a8c47cc4",
   "metadata": {},
   "outputs": [],
   "source": [
    "import pandas as pd"
   ]
  },
  {
   "cell_type": "code",
   "execution_count": 6,
   "id": "d1d53ab4",
   "metadata": {},
   "outputs": [],
   "source": [
    "rawData = pd.read_excel('./data/synthetic_retail/retail_data_synthetic_50k.xlsx')"
   ]
  },
  {
   "cell_type": "code",
   "execution_count": 7,
   "id": "7379544e",
   "metadata": {},
   "outputs": [
    {
     "name": "stdout",
     "output_type": "stream",
     "text": [
      "|    | Transaction_ID   | Customer_ID   | Gender     |   Age | Category    |   Quantity |   Unit_Price |   Discount | Date                | Store_Region   | Online_Or_Offline   | Payment_Method   |   Total_Amount |\n",
      "|---:|:-----------------|:--------------|:-----------|------:|:------------|-----------:|-------------:|-----------:|:--------------------|:---------------|:--------------------|:-----------------|---------------:|\n",
      "|  0 | TXN-00000        | CUST-1127     | Female     |    60 | Furniture   |          9 |       202.12 |       0.26 | 2023-02-12 00:00:00 | North          | Online              | Digital Wallet   |        1346.12 |\n",
      "|  1 | TXN-00001        | CUST-1460     | Male       |    30 | Beauty      |          4 |        75.03 |       0.05 | 2021-12-04 00:00:00 | West           | Online              | Digital Wallet   |         285.11 |\n",
      "|  2 | TXN-00002        | CUST-0861     | Male       |    52 | Clothing    |          1 |       374.66 |       0.15 | 2020-10-21 00:00:00 | South          | Online              | Cash             |         318.46 |\n",
      "|  3 | TXN-00003        | CUST-1295     | Non-binary |    38 | Electronics |          7 |        71.98 |       0.3  | 2020-04-26 00:00:00 | East           | Online              | Credit Card      |         352.7  |\n",
      "|  4 | TXN-00004        | CUST-1131     | Male       |    47 | Grocery     |          2 |       169.25 |       0.02 | 2022-06-03 00:00:00 | West           | Online              | Cash             |         331.73 |\n"
     ]
    }
   ],
   "source": [
    "print(rawData.head().to_markdown())"
   ]
  }
 ],
 "metadata": {
  "kernelspec": {
   "display_name": "base",
   "language": "python",
   "name": "python3"
  },
  "language_info": {
   "codemirror_mode": {
    "name": "ipython",
    "version": 3
   },
   "file_extension": ".py",
   "mimetype": "text/x-python",
   "name": "python",
   "nbconvert_exporter": "python",
   "pygments_lexer": "ipython3",
   "version": "3.13.5"
  }
 },
 "nbformat": 4,
 "nbformat_minor": 5
}
